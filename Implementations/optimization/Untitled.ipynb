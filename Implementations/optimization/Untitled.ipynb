{
 "cells": [
  {
   "cell_type": "code",
   "execution_count": 1,
   "id": "36e6b596",
   "metadata": {},
   "outputs": [],
   "source": [
    "from gekko import GEKKO\n",
    "m = GEKKO()"
   ]
  },
  {
   "cell_type": "code",
   "execution_count": 2,
   "id": "6d57fdb5",
   "metadata": {},
   "outputs": [],
   "source": [
    "# Variables\n",
    "\n",
    "x1 = m.Var(\n",
    "    integer = True,\n",
    "    lb = 5,\n",
    "    ub = 100\n",
    ")\n",
    "x2 = m.Var(\n",
    "    integer = True,\n",
    "    lb = 5,\n",
    "    ub = 100\n",
    ")\n",
    "\n",
    "X = [x1, x2]"
   ]
  },
  {
   "cell_type": "code",
   "execution_count": 3,
   "id": "bde792ef",
   "metadata": {},
   "outputs": [
    {
     "data": {
      "text/plain": [
       "<gekko.gekko.EquationObj at 0x1f2e2e7a1f0>"
      ]
     },
     "execution_count": 3,
     "metadata": {},
     "output_type": "execute_result"
    }
   ],
   "source": [
    "# Constraints\n",
    "\n",
    "m.Equation(\n",
    "    x1 + x2 <= 100\n",
    ")\n",
    "\n",
    "m.Equation(\n",
    "    x1**2 <= 100\n",
    ")"
   ]
  },
  {
   "cell_type": "code",
   "execution_count": 4,
   "id": "95b29c39",
   "metadata": {},
   "outputs": [],
   "source": [
    "# Objective Function(s)\n",
    "\n",
    "def revenue():\n",
    "    return 2*x1 + 2*x2\n",
    "\n",
    "def cost():\n",
    "    return x1 + x2\n",
    "\n",
    "m.Maximize( revenue() )\n",
    "m.Minimize( cost() )"
   ]
  },
  {
   "cell_type": "code",
   "execution_count": 5,
   "id": "dbe6770a",
   "metadata": {
    "scrolled": false
   },
   "outputs": [],
   "source": [
    "# Solving\n",
    "\n",
    "m.options.IMODE = 3\n",
    "# Steady State solution - solution does not change over time\n",
    "\n",
    "m.solve(disp = False)\n",
    "\n",
    "optimized_value = -m.options.OBJFCNVAl\n",
    "# remove - if you're minimizing"
   ]
  },
  {
   "cell_type": "code",
   "execution_count": 6,
   "id": "8f32cd8e",
   "metadata": {},
   "outputs": [
    {
     "name": "stdout",
     "output_type": "stream",
     "text": [
      "x1 = 9.9815058611\n",
      "x2 = 90.01849406\n",
      "Optimized Value = 99.999999921\n"
     ]
    }
   ],
   "source": [
    "# Display\n",
    "\n",
    "for index,x in enumerate(X):\n",
    "    print(\n",
    "        \"x\" + str(index+1) + \" =\",\n",
    "        x.value[0]\n",
    "    )\n",
    "\n",
    "print(\n",
    "    \"Optimized Value =\", optimized_value\n",
    ")"
   ]
  }
 ],
 "metadata": {
  "kernelspec": {
   "display_name": "Python 3",
   "language": "python",
   "name": "python3"
  },
  "language_info": {
   "codemirror_mode": {
    "name": "ipython",
    "version": 3
   },
   "file_extension": ".py",
   "mimetype": "text/x-python",
   "name": "python",
   "nbconvert_exporter": "python",
   "pygments_lexer": "ipython3",
   "version": "3.8.8"
  }
 },
 "nbformat": 4,
 "nbformat_minor": 5
}
