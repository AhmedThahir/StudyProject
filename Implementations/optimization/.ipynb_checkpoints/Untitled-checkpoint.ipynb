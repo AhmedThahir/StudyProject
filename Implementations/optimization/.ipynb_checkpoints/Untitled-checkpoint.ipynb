{
 "cells": [
  {
   "cell_type": "code",
   "execution_count": 7,
   "id": "eb4f4715",
   "metadata": {},
   "outputs": [],
   "source": [
    "from gekko import GEKKO\n",
    "m = GEKKO()"
   ]
  },
  {
   "cell_type": "code",
   "execution_count": 8,
   "id": "4d33e248",
   "metadata": {},
   "outputs": [],
   "source": [
    "# Variables\n",
    "\n",
    "x1 = m.Var(\n",
    "    integer = True,\n",
    "    lb = 5,\n",
    "    ub = 100\n",
    ")\n",
    "x2 = m.Var(\n",
    "    integer = True,\n",
    "    lb = 5,\n",
    "    ub = 100\n",
    ")\n",
    "\n",
    "X = [x1, x2]"
   ]
  },
  {
   "cell_type": "code",
   "execution_count": 9,
   "id": "fc5d616c",
   "metadata": {},
   "outputs": [
    {
     "data": {
      "text/plain": [
       "<gekko.gekko.EquationObj at 0x1c9c6fbe190>"
      ]
     },
     "execution_count": 9,
     "metadata": {},
     "output_type": "execute_result"
    }
   ],
   "source": [
    "# Constraints\n",
    "\n",
    "m.Equation(\n",
    "    x1 + x2 <= 100\n",
    ")\n",
    "\n",
    "m.Equation(\n",
    "    x1**2 <= 100\n",
    ")"
   ]
  },
  {
   "cell_type": "code",
   "execution_count": 10,
   "id": "f21bd231",
   "metadata": {},
   "outputs": [],
   "source": [
    "# Objective Function(s)\n",
    "\n",
    "def revenue():\n",
    "    return 2*x1 + 3*x2\n",
    "\n",
    "def cost():\n",
    "    return x1 + x2\n",
    "\n",
    "m.Maximize( revenue() )\n",
    "m.Minimize( cost() )"
   ]
  },
  {
   "cell_type": "code",
   "execution_count": 11,
   "id": "a6b4e6f1",
   "metadata": {
    "scrolled": false
   },
   "outputs": [],
   "source": [
    "# Solving\n",
    "\n",
    "m.options.IMODE = 3 # solution does not change over time\n",
    "m.solve(disp = False)\n",
    "\n",
    "optimized_value = -m.options.OBJFCNVAl\n",
    "# remove - if you're minimizing"
   ]
  },
  {
   "cell_type": "code",
   "execution_count": 12,
   "id": "99538c49",
   "metadata": {},
   "outputs": [
    {
     "name": "stdout",
     "output_type": "stream",
     "text": [
      "x1 = 10.0\n",
      "x2 = 10.0\n",
      "Optimized Value = 30.0\n"
     ]
    }
   ],
   "source": [
    "# Display\n",
    "\n",
    "for index,x in enumerate(X):\n",
    "    print(\n",
    "        \"x\" + str(index+1) + \" =\",\n",
    "        x.value[0]\n",
    "    )\n",
    "\n",
    "print(\n",
    "    \"Optimized Value =\", optimized_value\n",
    ")"
   ]
  }
 ],
 "metadata": {
  "kernelspec": {
   "display_name": "Python 3",
   "language": "python",
   "name": "python3"
  },
  "language_info": {
   "codemirror_mode": {
    "name": "ipython",
    "version": 3
   },
   "file_extension": ".py",
   "mimetype": "text/x-python",
   "name": "python",
   "nbconvert_exporter": "python",
   "pygments_lexer": "ipython3",
   "version": "3.8.8"
  }
 },
 "nbformat": 4,
 "nbformat_minor": 5
}
